{
 "cells": [
  {
   "cell_type": "code",
   "execution_count": null,
   "metadata": {},
   "outputs": [],
   "source": [
    "import os\n",
    "\n",
    "files = [f for f in os.listdir('.') if f[-4:].lower() == '.jpg']\n",
    "\n",
    "DRYRUN = True\n",
    "\n",
    "for (index, filename) in enumerate(files):\n",
    "    extension = os.path.splitext(filename)[1]\n",
    "\n",
    "    # Define new file name pattern\n",
    "    newname = \"PyCon2013-%0d%s\" % (index, extension) # newname can be anything depending on your liking\n",
    "\n",
    "    if os.path.exists(newname):\n",
    "        print (\"Cannot rename %s to %s, already exists\" % (filename, newname))\n",
    "        continue\n",
    "\n",
    "    if DRYRUN:\n",
    "        print (\"Would rename %s to %s\" % (filename, newname))\n",
    "    else:\n",
    "        print (\"Renaming %s to %s\" % (filename, newname))\n",
    "    os.rename(filename, newname)"
   ]
  }
 ],
 "metadata": {
  "kernelspec": {
   "display_name": "Python 3",
   "language": "python",
   "name": "python3"
  },
  "language_info": {
   "codemirror_mode": {
    "name": "ipython",
    "version": 3
   },
   "file_extension": ".py",
   "mimetype": "text/x-python",
   "name": "python",
   "nbconvert_exporter": "python",
   "pygments_lexer": "ipython3",
   "version": "3.7.0"
  }
 },
 "nbformat": 4,
 "nbformat_minor": 2
}
